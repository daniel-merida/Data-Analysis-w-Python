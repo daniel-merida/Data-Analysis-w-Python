{
 "cells": [
  {
   "cell_type": "markdown",
   "metadata": {},
   "source": [
    "# projeto01"
   ]
  },
  {
   "cell_type": "code",
   "execution_count": 11,
   "metadata": {},
   "outputs": [],
   "source": [
    "import pandas as pd"
   ]
  },
  {
   "cell_type": "code",
   "execution_count": 12,
   "metadata": {},
   "outputs": [
    {
     "name": "stdout",
     "output_type": "stream",
     "text": [
      "     order_id  order_store     order_status           order_date  \\\n",
      "0  1074802946         -100         Entregue  2014-01-12 00:00:00   \n",
      "1   652966612         -100         Entregue  2014-06-03 00:00:00   \n",
      "2  2276113473         -100  Pedido entregue  2017-06-07 00:00:00   \n",
      "3  2252978072         -100  Pedido entregue  2017-05-18 00:00:00   \n",
      "4  1189783495         -100  Pedido entregue  2015-04-18 00:00:00   \n",
      "\n",
      "      customer_id        payment_method_raw  \n",
      "0  CLI13423049592  Cartão de Crédito - Visa  \n",
      "1   CLI9239205153  Cartão de Crédito - Visa  \n",
      "2  CLI15043369916                       NaN  \n",
      "3  CLI15011780832                    boleto  \n",
      "4       CLI685352                       tef  \n"
     ]
    }
   ],
   "source": [
    "pedidos = './Pedidos.csv'\n",
    "df = pd.read_csv(pedidos, sep='|')\n",
    "print(df.head())"
   ]
  }
 ],
 "metadata": {
  "kernelspec": {
   "display_name": "Python 3",
   "language": "python",
   "name": "python3"
  },
  "language_info": {
   "codemirror_mode": {
    "name": "ipython",
    "version": 3
   },
   "file_extension": ".py",
   "mimetype": "text/x-python",
   "name": "python",
   "nbconvert_exporter": "python",
   "pygments_lexer": "ipython3",
   "version": "3.11.9"
  }
 },
 "nbformat": 4,
 "nbformat_minor": 2
}
